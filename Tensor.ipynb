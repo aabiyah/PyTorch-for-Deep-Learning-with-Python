{
  "nbformat": 4,
  "nbformat_minor": 0,
  "metadata": {
    "colab": {
      "provenance": [],
      "authorship_tag": "ABX9TyNnljQjT9GSGWRDgfliOuVi"
    },
    "kernelspec": {
      "name": "python3",
      "display_name": "Python 3"
    },
    "language_info": {
      "name": "python"
    }
  },
  "cells": [
    {
      "cell_type": "markdown",
      "source": [
        "# Tensor Basics"
      ],
      "metadata": {
        "id": "nkLtKJwzbq6T"
      }
    },
    {
      "cell_type": "code",
      "execution_count": 2,
      "metadata": {
        "id": "TcXA2yXVpVwV"
      },
      "outputs": [],
      "source": [
        "import torch"
      ]
    },
    {
      "cell_type": "code",
      "source": [
        "import numpy as np"
      ],
      "metadata": {
        "id": "dY-4d4eqpYse"
      },
      "execution_count": 3,
      "outputs": []
    },
    {
      "cell_type": "code",
      "source": [
        "torch.__version__"
      ],
      "metadata": {
        "colab": {
          "base_uri": "https://localhost:8080/",
          "height": 34
        },
        "id": "LyeVZ6_5pbHP",
        "outputId": "e8d9857c-b5db-4050-ed5b-fee8e16ebdbb"
      },
      "execution_count": 4,
      "outputs": [
        {
          "output_type": "execute_result",
          "data": {
            "text/plain": [
              "'2.3.1+cu121'"
            ],
            "application/vnd.google.colaboratory.intrinsic+json": {
              "type": "string"
            }
          },
          "metadata": {},
          "execution_count": 4
        }
      ]
    },
    {
      "cell_type": "code",
      "source": [
        "arr = np.array([1,2,3,4,5])\n",
        "print(arr)"
      ],
      "metadata": {
        "colab": {
          "base_uri": "https://localhost:8080/"
        },
        "id": "f1w-WkSnphdR",
        "outputId": "d5c7bc11-b0b9-4794-faae-905098ef0ba4"
      },
      "execution_count": 5,
      "outputs": [
        {
          "output_type": "stream",
          "name": "stdout",
          "text": [
            "[1 2 3 4 5]\n"
          ]
        }
      ]
    },
    {
      "cell_type": "code",
      "source": [
        "arr.dtype"
      ],
      "metadata": {
        "colab": {
          "base_uri": "https://localhost:8080/"
        },
        "id": "HKevklrBpmdQ",
        "outputId": "d8e43812-3b5e-47f5-8707-d3af0020b412"
      },
      "execution_count": 6,
      "outputs": [
        {
          "output_type": "execute_result",
          "data": {
            "text/plain": [
              "dtype('int64')"
            ]
          },
          "metadata": {},
          "execution_count": 6
        }
      ]
    },
    {
      "cell_type": "code",
      "source": [
        "type(arr)"
      ],
      "metadata": {
        "colab": {
          "base_uri": "https://localhost:8080/"
        },
        "id": "v_rWwYgxpoEj",
        "outputId": "074c13c7-aa15-4f52-b35c-48121132cf75"
      },
      "execution_count": 7,
      "outputs": [
        {
          "output_type": "execute_result",
          "data": {
            "text/plain": [
              "numpy.ndarray"
            ]
          },
          "metadata": {},
          "execution_count": 7
        }
      ]
    },
    {
      "cell_type": "code",
      "source": [
        "x = torch.from_numpy(arr)"
      ],
      "metadata": {
        "id": "nxauw9Jjps3Q"
      },
      "execution_count": 8,
      "outputs": []
    },
    {
      "cell_type": "code",
      "source": [
        "type(x)"
      ],
      "metadata": {
        "colab": {
          "base_uri": "https://localhost:8080/"
        },
        "id": "2vemf9PEpwG7",
        "outputId": "2c123481-1046-4f38-a1f1-fa615ad5b785"
      },
      "execution_count": 9,
      "outputs": [
        {
          "output_type": "execute_result",
          "data": {
            "text/plain": [
              "torch.Tensor"
            ]
          },
          "metadata": {},
          "execution_count": 9
        }
      ]
    },
    {
      "cell_type": "code",
      "source": [
        "torch.as_tensor(arr)"
      ],
      "metadata": {
        "colab": {
          "base_uri": "https://localhost:8080/"
        },
        "id": "LrsZox5HpxTo",
        "outputId": "8db64b55-ecc2-49be-e5e6-01280bd38b8a"
      },
      "execution_count": 10,
      "outputs": [
        {
          "output_type": "execute_result",
          "data": {
            "text/plain": [
              "tensor([1, 2, 3, 4, 5])"
            ]
          },
          "metadata": {},
          "execution_count": 10
        }
      ]
    },
    {
      "cell_type": "code",
      "source": [
        "x"
      ],
      "metadata": {
        "colab": {
          "base_uri": "https://localhost:8080/"
        },
        "id": "Ci1YGfl8pzLb",
        "outputId": "69b9d5d4-d9c9-4eca-ba73-3179553db8e6"
      },
      "execution_count": 11,
      "outputs": [
        {
          "output_type": "execute_result",
          "data": {
            "text/plain": [
              "tensor([1, 2, 3, 4, 5])"
            ]
          },
          "metadata": {},
          "execution_count": 11
        }
      ]
    },
    {
      "cell_type": "code",
      "source": [
        "x.dtype"
      ],
      "metadata": {
        "colab": {
          "base_uri": "https://localhost:8080/"
        },
        "id": "J-F0D3UCp0tn",
        "outputId": "be3bb9a6-14b8-442c-ce77-78488c4d6b46"
      },
      "execution_count": 12,
      "outputs": [
        {
          "output_type": "execute_result",
          "data": {
            "text/plain": [
              "torch.int64"
            ]
          },
          "metadata": {},
          "execution_count": 12
        }
      ]
    },
    {
      "cell_type": "code",
      "source": [
        "arr2d = np.arange(0.0,12.0)"
      ],
      "metadata": {
        "id": "pzm7c6aXp2cj"
      },
      "execution_count": 13,
      "outputs": []
    },
    {
      "cell_type": "code",
      "source": [
        "arr2d"
      ],
      "metadata": {
        "colab": {
          "base_uri": "https://localhost:8080/"
        },
        "id": "eKi3L29Cp_5v",
        "outputId": "4e27a5c8-8fd8-4c11-91c4-f4edee6a5db7"
      },
      "execution_count": 14,
      "outputs": [
        {
          "output_type": "execute_result",
          "data": {
            "text/plain": [
              "array([ 0.,  1.,  2.,  3.,  4.,  5.,  6.,  7.,  8.,  9., 10., 11.])"
            ]
          },
          "metadata": {},
          "execution_count": 14
        }
      ]
    },
    {
      "cell_type": "code",
      "source": [
        "arr2d = arr2d.reshape(4,3)\n",
        "arr2d"
      ],
      "metadata": {
        "colab": {
          "base_uri": "https://localhost:8080/"
        },
        "id": "m41cfVbWqGET",
        "outputId": "11773af6-0571-4414-b21f-a6bc9b9a556b"
      },
      "execution_count": 15,
      "outputs": [
        {
          "output_type": "execute_result",
          "data": {
            "text/plain": [
              "array([[ 0.,  1.,  2.],\n",
              "       [ 3.,  4.,  5.],\n",
              "       [ 6.,  7.,  8.],\n",
              "       [ 9., 10., 11.]])"
            ]
          },
          "metadata": {},
          "execution_count": 15
        }
      ]
    },
    {
      "cell_type": "code",
      "source": [
        "x2 = torch.from_numpy(arr2d)\n",
        "x2"
      ],
      "metadata": {
        "colab": {
          "base_uri": "https://localhost:8080/"
        },
        "id": "v0RIDuxfqJQR",
        "outputId": "0cf73d36-7e3c-4060-dcee-c1ef62384c48"
      },
      "execution_count": 16,
      "outputs": [
        {
          "output_type": "execute_result",
          "data": {
            "text/plain": [
              "tensor([[ 0.,  1.,  2.],\n",
              "        [ 3.,  4.,  5.],\n",
              "        [ 6.,  7.,  8.],\n",
              "        [ 9., 10., 11.]], dtype=torch.float64)"
            ]
          },
          "metadata": {},
          "execution_count": 16
        }
      ]
    },
    {
      "cell_type": "code",
      "source": [
        "arr[0] = 99\n",
        "arr"
      ],
      "metadata": {
        "colab": {
          "base_uri": "https://localhost:8080/"
        },
        "id": "WA566IToqNf9",
        "outputId": "295b32a3-5ecf-40ee-d57e-deea5254611d"
      },
      "execution_count": 17,
      "outputs": [
        {
          "output_type": "execute_result",
          "data": {
            "text/plain": [
              "array([99,  2,  3,  4,  5])"
            ]
          },
          "metadata": {},
          "execution_count": 17
        }
      ]
    },
    {
      "cell_type": "code",
      "source": [
        "my_arr = np.arange(0,10)\n",
        "my_arr"
      ],
      "metadata": {
        "colab": {
          "base_uri": "https://localhost:8080/"
        },
        "id": "oceN6EzwqYI1",
        "outputId": "28883e9f-b663-44f0-99a7-39f668155006"
      },
      "execution_count": 18,
      "outputs": [
        {
          "output_type": "execute_result",
          "data": {
            "text/plain": [
              "array([0, 1, 2, 3, 4, 5, 6, 7, 8, 9])"
            ]
          },
          "metadata": {},
          "execution_count": 18
        }
      ]
    },
    {
      "cell_type": "code",
      "source": [
        "my_tensor = torch.tensor(my_arr)\n",
        "my_tensor"
      ],
      "metadata": {
        "colab": {
          "base_uri": "https://localhost:8080/"
        },
        "id": "o0iSaoEHqbrf",
        "outputId": "cb059961-61b9-4111-893a-c602fc01d9ac"
      },
      "execution_count": 19,
      "outputs": [
        {
          "output_type": "execute_result",
          "data": {
            "text/plain": [
              "tensor([0, 1, 2, 3, 4, 5, 6, 7, 8, 9])"
            ]
          },
          "metadata": {},
          "execution_count": 19
        }
      ]
    },
    {
      "cell_type": "code",
      "source": [
        "my_other_tensor = torch.from_numpy(my_arr)\n",
        "my_other_tensor"
      ],
      "metadata": {
        "colab": {
          "base_uri": "https://localhost:8080/"
        },
        "id": "KCLwvjGfqgbq",
        "outputId": "565e4fc3-8eef-425d-b2be-8e05378f5946"
      },
      "execution_count": 20,
      "outputs": [
        {
          "output_type": "execute_result",
          "data": {
            "text/plain": [
              "tensor([0, 1, 2, 3, 4, 5, 6, 7, 8, 9])"
            ]
          },
          "metadata": {},
          "execution_count": 20
        }
      ]
    },
    {
      "cell_type": "code",
      "source": [
        "my_arr[0] = 9999\n",
        "my_arr"
      ],
      "metadata": {
        "colab": {
          "base_uri": "https://localhost:8080/"
        },
        "id": "-ItyzKWAqkGd",
        "outputId": "221ef0bb-b42c-482f-c458-e7980861e6df"
      },
      "execution_count": 21,
      "outputs": [
        {
          "output_type": "execute_result",
          "data": {
            "text/plain": [
              "array([9999,    1,    2,    3,    4,    5,    6,    7,    8,    9])"
            ]
          },
          "metadata": {},
          "execution_count": 21
        }
      ]
    },
    {
      "cell_type": "code",
      "source": [
        "my_other_tensor"
      ],
      "metadata": {
        "colab": {
          "base_uri": "https://localhost:8080/"
        },
        "id": "vHJ32J38qnAF",
        "outputId": "8a53b937-1860-4126-e36b-c0a7c38f9996"
      },
      "execution_count": 22,
      "outputs": [
        {
          "output_type": "execute_result",
          "data": {
            "text/plain": [
              "tensor([9999,    1,    2,    3,    4,    5,    6,    7,    8,    9])"
            ]
          },
          "metadata": {},
          "execution_count": 22
        }
      ]
    },
    {
      "cell_type": "code",
      "source": [
        "my_tensor"
      ],
      "metadata": {
        "colab": {
          "base_uri": "https://localhost:8080/"
        },
        "id": "fml-vgMIqpDB",
        "outputId": "e53104ab-7e98-41bb-e4fb-1caa4fff0cac"
      },
      "execution_count": 23,
      "outputs": [
        {
          "output_type": "execute_result",
          "data": {
            "text/plain": [
              "tensor([0, 1, 2, 3, 4, 5, 6, 7, 8, 9])"
            ]
          },
          "metadata": {},
          "execution_count": 23
        }
      ]
    },
    {
      "cell_type": "markdown",
      "source": [
        "This Python code uses the torch library (PyTorch) and numpy to demonstrate the conversion between NumPy arrays and PyTorch tensors.\n",
        "\n",
        "* torch: PyTorch library for tensor computations, similar to NumPy but optimized for GPUs.\n",
        "* numpy: Library for numerical computations in Python, with support for arrays.\n",
        "\n",
        "This code demonstrates how PyTorch tensors can be created from NumPy arrays, the differences between creating a tensor using torch.tensor (which creates a copy) and torch.from_numpy (which shares memory), and how changes to the original NumPy array affect the tensor when memory is shared."
      ],
      "metadata": {
        "id": "V4cHhnp6rE1u"
      }
    },
    {
      "cell_type": "markdown",
      "source": [
        "# Creating Tensors from Scratch"
      ],
      "metadata": {
        "id": "Em2QZ0_YBihW"
      }
    },
    {
      "cell_type": "markdown",
      "source": [
        "> NOTE: `tensor` and `Tensor` are two different things. `torch.tensor(new_arr)` will return *tensor([1, 2, 3], dtype=torch.int32)*. `torch.Tensor(new_arr)` will return the array in float. *tensor([1., 2., 3.])*."
      ],
      "metadata": {
        "id": "D5jLHEBMBtRg"
      }
    },
    {
      "cell_type": "code",
      "source": [
        "torch.empty(4,2)"
      ],
      "metadata": {
        "colab": {
          "base_uri": "https://localhost:8080/"
        },
        "id": "ic6GtvnQBhPT",
        "outputId": "32be9788-9523-4103-a56f-edd9e6b3a047"
      },
      "execution_count": 24,
      "outputs": [
        {
          "output_type": "execute_result",
          "data": {
            "text/plain": [
              "tensor([[0., 0.],\n",
              "        [0., 0.],\n",
              "        [0., 0.],\n",
              "        [0., 0.]])"
            ]
          },
          "metadata": {},
          "execution_count": 24
        }
      ]
    },
    {
      "cell_type": "code",
      "source": [
        "torch.zeros(4,3,dtype=torch.int64)"
      ],
      "metadata": {
        "colab": {
          "base_uri": "https://localhost:8080/"
        },
        "id": "vlfg2BeHNKOh",
        "outputId": "d0de1de8-8f16-400a-b56c-f72003f0434e"
      },
      "execution_count": 25,
      "outputs": [
        {
          "output_type": "execute_result",
          "data": {
            "text/plain": [
              "tensor([[0, 0, 0],\n",
              "        [0, 0, 0],\n",
              "        [0, 0, 0],\n",
              "        [0, 0, 0]])"
            ]
          },
          "metadata": {},
          "execution_count": 25
        }
      ]
    },
    {
      "cell_type": "code",
      "source": [
        "torch.ones(4,3)"
      ],
      "metadata": {
        "colab": {
          "base_uri": "https://localhost:8080/"
        },
        "id": "BsCbHbg-PcZb",
        "outputId": "2f94a28e-bf56-4ca3-cdc4-1c21554aa3df"
      },
      "execution_count": 26,
      "outputs": [
        {
          "output_type": "execute_result",
          "data": {
            "text/plain": [
              "tensor([[1., 1., 1.],\n",
              "        [1., 1., 1.],\n",
              "        [1., 1., 1.],\n",
              "        [1., 1., 1.]])"
            ]
          },
          "metadata": {},
          "execution_count": 26
        }
      ]
    },
    {
      "cell_type": "code",
      "source": [
        "torch.arange(0,18,2).reshape(3,3)"
      ],
      "metadata": {
        "colab": {
          "base_uri": "https://localhost:8080/"
        },
        "id": "gWx_pIpsPngk",
        "outputId": "c4e10e3e-b90d-475c-a8c3-5954142acfe9"
      },
      "execution_count": 27,
      "outputs": [
        {
          "output_type": "execute_result",
          "data": {
            "text/plain": [
              "tensor([[ 0,  2,  4],\n",
              "        [ 6,  8, 10],\n",
              "        [12, 14, 16]])"
            ]
          },
          "metadata": {},
          "execution_count": 27
        }
      ]
    },
    {
      "cell_type": "code",
      "source": [
        "torch.linspace(0,18,12).reshape(3,4)"
      ],
      "metadata": {
        "colab": {
          "base_uri": "https://localhost:8080/"
        },
        "id": "HVSz1s78PshW",
        "outputId": "4ec0c25d-e6ec-47aa-9c7e-c09fc752d5e1"
      },
      "execution_count": 28,
      "outputs": [
        {
          "output_type": "execute_result",
          "data": {
            "text/plain": [
              "tensor([[ 0.0000,  1.6364,  3.2727,  4.9091],\n",
              "        [ 6.5455,  8.1818,  9.8182, 11.4545],\n",
              "        [13.0909, 14.7273, 16.3636, 18.0000]])"
            ]
          },
          "metadata": {},
          "execution_count": 28
        }
      ]
    },
    {
      "cell_type": "code",
      "source": [
        "torch.tensor([1,2,3])"
      ],
      "metadata": {
        "colab": {
          "base_uri": "https://localhost:8080/"
        },
        "id": "AdBsFOjdP2aC",
        "outputId": "79858ea7-c419-4513-b880-340da03626a0"
      },
      "execution_count": 29,
      "outputs": [
        {
          "output_type": "execute_result",
          "data": {
            "text/plain": [
              "tensor([1, 2, 3])"
            ]
          },
          "metadata": {},
          "execution_count": 29
        }
      ]
    },
    {
      "cell_type": "code",
      "source": [
        "my_tensor = torch.tensor([1,2,3])\n",
        "my_tensor.dtype"
      ],
      "metadata": {
        "colab": {
          "base_uri": "https://localhost:8080/"
        },
        "id": "FUrH1qUQP78R",
        "outputId": "804bddd4-a199-4ec3-d2e9-90dfcaad8582"
      },
      "execution_count": 30,
      "outputs": [
        {
          "output_type": "execute_result",
          "data": {
            "text/plain": [
              "torch.int64"
            ]
          },
          "metadata": {},
          "execution_count": 30
        }
      ]
    },
    {
      "cell_type": "code",
      "source": [
        "my_tensor = my_tensor.type(torch.int32)\n",
        "my_tensor.dtype"
      ],
      "metadata": {
        "colab": {
          "base_uri": "https://localhost:8080/"
        },
        "id": "H3XJY25nQARK",
        "outputId": "04af5e62-a9b3-4ca5-d172-3a211525ae8a"
      },
      "execution_count": 31,
      "outputs": [
        {
          "output_type": "execute_result",
          "data": {
            "text/plain": [
              "torch.int32"
            ]
          },
          "metadata": {},
          "execution_count": 31
        }
      ]
    },
    {
      "cell_type": "code",
      "source": [
        "torch.rand(4,3)"
      ],
      "metadata": {
        "colab": {
          "base_uri": "https://localhost:8080/"
        },
        "id": "SLfItfoSYT9R",
        "outputId": "a476d0f1-a0db-498d-c666-26a813410921"
      },
      "execution_count": 32,
      "outputs": [
        {
          "output_type": "execute_result",
          "data": {
            "text/plain": [
              "tensor([[0.3595, 0.9648, 0.9850],\n",
              "        [0.9959, 0.1424, 0.5132],\n",
              "        [0.9827, 0.1299, 0.0922],\n",
              "        [0.7837, 0.3270, 0.1701]])"
            ]
          },
          "metadata": {},
          "execution_count": 32
        }
      ]
    },
    {
      "cell_type": "code",
      "source": [],
      "metadata": {
        "id": "7GnBoVgDgNaT"
      },
      "execution_count": null,
      "outputs": []
    },
    {
      "cell_type": "code",
      "source": [
        "torch.randn(4,3)"
      ],
      "metadata": {
        "colab": {
          "base_uri": "https://localhost:8080/"
        },
        "id": "nigl_5tUZbSv",
        "outputId": "e555e4c2-c88a-497a-c240-fdd2f48414bf"
      },
      "execution_count": 33,
      "outputs": [
        {
          "output_type": "execute_result",
          "data": {
            "text/plain": [
              "tensor([[-2.0055, -0.5605,  0.7052],\n",
              "        [-0.2336, -2.3686,  1.9574],\n",
              "        [ 0.9095,  0.7311,  1.0327],\n",
              "        [ 1.5418, -0.0367,  2.8398]])"
            ]
          },
          "metadata": {},
          "execution_count": 33
        }
      ]
    },
    {
      "cell_type": "code",
      "source": [
        "torch.randint(low=0,high=10,size=(5,5))"
      ],
      "metadata": {
        "colab": {
          "base_uri": "https://localhost:8080/"
        },
        "id": "eokeDyEDZgny",
        "outputId": "a51168b6-fd9d-45ff-e404-a4252335fbd1"
      },
      "execution_count": 34,
      "outputs": [
        {
          "output_type": "execute_result",
          "data": {
            "text/plain": [
              "tensor([[6, 0, 2, 3, 2],\n",
              "        [2, 2, 3, 3, 1],\n",
              "        [4, 2, 7, 3, 9],\n",
              "        [9, 8, 7, 0, 6],\n",
              "        [3, 8, 8, 9, 6]])"
            ]
          },
          "metadata": {},
          "execution_count": 34
        }
      ]
    },
    {
      "cell_type": "code",
      "source": [
        "x = torch.zeros(2,5)\n",
        "x"
      ],
      "metadata": {
        "colab": {
          "base_uri": "https://localhost:8080/"
        },
        "id": "e2vQegeIaHv4",
        "outputId": "6c580516-c1b4-42f8-96fa-b6844a74c141"
      },
      "execution_count": 35,
      "outputs": [
        {
          "output_type": "execute_result",
          "data": {
            "text/plain": [
              "tensor([[0., 0., 0., 0., 0.],\n",
              "        [0., 0., 0., 0., 0.]])"
            ]
          },
          "metadata": {},
          "execution_count": 35
        }
      ]
    },
    {
      "cell_type": "code",
      "source": [
        "x.shape"
      ],
      "metadata": {
        "colab": {
          "base_uri": "https://localhost:8080/"
        },
        "id": "Ds3-QUu7aNtY",
        "outputId": "54e21240-50c2-457a-feeb-0be5d53065f9"
      },
      "execution_count": 36,
      "outputs": [
        {
          "output_type": "execute_result",
          "data": {
            "text/plain": [
              "torch.Size([2, 5])"
            ]
          },
          "metadata": {},
          "execution_count": 36
        }
      ]
    },
    {
      "cell_type": "code",
      "source": [
        "torch.rand_like(x)"
      ],
      "metadata": {
        "colab": {
          "base_uri": "https://localhost:8080/"
        },
        "id": "NKR_6TtYaNrX",
        "outputId": "a2d030b8-1d7e-4312-b587-25ea8e38758b"
      },
      "execution_count": 37,
      "outputs": [
        {
          "output_type": "execute_result",
          "data": {
            "text/plain": [
              "tensor([[0.3550, 0.7343, 0.3807, 0.5343, 0.7775],\n",
              "        [0.9652, 0.8832, 0.7478, 0.5695, 0.3828]])"
            ]
          },
          "metadata": {},
          "execution_count": 37
        }
      ]
    },
    {
      "cell_type": "code",
      "source": [
        "torch.randn_like(x)"
      ],
      "metadata": {
        "colab": {
          "base_uri": "https://localhost:8080/"
        },
        "id": "E1J_bNLpaemJ",
        "outputId": "3c9b58a6-909c-4608-f77f-5e5e4e0666ed"
      },
      "execution_count": 38,
      "outputs": [
        {
          "output_type": "execute_result",
          "data": {
            "text/plain": [
              "tensor([[-0.1402, -0.6203,  0.1323, -1.2521,  1.2578],\n",
              "        [-0.4273, -1.3504,  2.0570,  0.4173,  1.9928]])"
            ]
          },
          "metadata": {},
          "execution_count": 38
        }
      ]
    },
    {
      "cell_type": "code",
      "source": [
        "torch.randint_like(x,low=0,high=10)"
      ],
      "metadata": {
        "colab": {
          "base_uri": "https://localhost:8080/"
        },
        "id": "z35nIPg-ai5S",
        "outputId": "cc48feb4-73e8-4942-c16d-f79044cb90b6"
      },
      "execution_count": 39,
      "outputs": [
        {
          "output_type": "execute_result",
          "data": {
            "text/plain": [
              "tensor([[3., 2., 5., 4., 9.],\n",
              "        [9., 8., 9., 2., 7.]])"
            ]
          },
          "metadata": {},
          "execution_count": 39
        }
      ]
    },
    {
      "cell_type": "code",
      "source": [
        "torch.randint_like(x,low=0,high=11)"
      ],
      "metadata": {
        "colab": {
          "base_uri": "https://localhost:8080/"
        },
        "id": "wDtaheyTamml",
        "outputId": "11c86720-d010-4c82-f4e1-55ad7eaccc4a"
      },
      "execution_count": 41,
      "outputs": [
        {
          "output_type": "execute_result",
          "data": {
            "text/plain": [
              "tensor([[ 7.,  9.,  2.,  9.,  6.],\n",
              "        [ 4.,  8.,  8., 10.,  1.]])"
            ]
          },
          "metadata": {},
          "execution_count": 41
        }
      ]
    },
    {
      "cell_type": "code",
      "source": [
        "torch.manual_seed(42)\n",
        "torch.rand(2,3)"
      ],
      "metadata": {
        "colab": {
          "base_uri": "https://localhost:8080/"
        },
        "id": "7aXb3AuZbS7w",
        "outputId": "6c910ded-7ed9-428a-b0d2-bc2b681153e5"
      },
      "execution_count": 42,
      "outputs": [
        {
          "output_type": "execute_result",
          "data": {
            "text/plain": [
              "tensor([[0.8823, 0.9150, 0.3829],\n",
              "        [0.9593, 0.3904, 0.6009]])"
            ]
          },
          "metadata": {},
          "execution_count": 42
        }
      ]
    },
    {
      "cell_type": "code",
      "source": [
        "torch.rand(2,3)"
      ],
      "metadata": {
        "colab": {
          "base_uri": "https://localhost:8080/"
        },
        "id": "IKLajuUgbXtD",
        "outputId": "df6df451-b02d-4791-b4a5-19c62129a98d"
      },
      "execution_count": 43,
      "outputs": [
        {
          "output_type": "execute_result",
          "data": {
            "text/plain": [
              "tensor([[0.2566, 0.7936, 0.9408],\n",
              "        [0.1332, 0.9346, 0.5936]])"
            ]
          },
          "metadata": {},
          "execution_count": 43
        }
      ]
    },
    {
      "cell_type": "code",
      "source": [
        "torch.rand(2,3)"
      ],
      "metadata": {
        "colab": {
          "base_uri": "https://localhost:8080/"
        },
        "id": "-kwVkDvRbbo-",
        "outputId": "6f8c82f3-ed0c-4b89-ee4b-cbf43d95df01"
      },
      "execution_count": 44,
      "outputs": [
        {
          "output_type": "execute_result",
          "data": {
            "text/plain": [
              "tensor([[0.8694, 0.5677, 0.7411],\n",
              "        [0.4294, 0.8854, 0.5739]])"
            ]
          },
          "metadata": {},
          "execution_count": 44
        }
      ]
    },
    {
      "cell_type": "markdown",
      "source": [
        "# Tensor Operations\n",
        "\n",
        "This section covers:\n",
        "\n",
        "* Indexing and slicing\n",
        "* Reshaping tensors (tensor views)\n",
        "* Tensor arithmetic and basic operations\n",
        "* Dot products\n",
        "* Matrix multiplication\n",
        "* Additional, more advanced operations\n"
      ],
      "metadata": {
        "id": "m116YTtEbukI"
      }
    },
    {
      "cell_type": "code",
      "source": [
        "import torch\n",
        "import numpy as np"
      ],
      "metadata": {
        "id": "MD7tWUSmcRXY"
      },
      "execution_count": 45,
      "outputs": []
    },
    {
      "cell_type": "markdown",
      "source": [
        "## Indexing and slicing\n",
        "\n",
        "Extracting specific values from a tensor works just the same as with NumPy arrays\n",
        "\n",
        "![Diagram](http://www.scipy-lectures.org/_images/numpy_indexing.png)\n",
        "\n"
      ],
      "metadata": {
        "id": "SGm2T_YocUrc"
      }
    },
    {
      "cell_type": "code",
      "source": [
        "x = torch.arange(6).reshape(3,2)\n",
        "print(x)"
      ],
      "metadata": {
        "colab": {
          "base_uri": "https://localhost:8080/"
        },
        "id": "UX64zMeTcVf8",
        "outputId": "bbc7274d-098d-4d00-d658-f141c9c9f52e"
      },
      "execution_count": 46,
      "outputs": [
        {
          "output_type": "stream",
          "name": "stdout",
          "text": [
            "tensor([[0, 1],\n",
            "        [2, 3],\n",
            "        [4, 5]])\n"
          ]
        }
      ]
    },
    {
      "cell_type": "code",
      "source": [
        "# Grabbing the right hand column values\n",
        "x[:,1]"
      ],
      "metadata": {
        "colab": {
          "base_uri": "https://localhost:8080/"
        },
        "id": "r4nlrnbLcqUi",
        "outputId": "a95ecbb6-4cd4-44a1-bf81-24f55f402e62"
      },
      "execution_count": 47,
      "outputs": [
        {
          "output_type": "execute_result",
          "data": {
            "text/plain": [
              "tensor([1, 3, 5])"
            ]
          },
          "metadata": {},
          "execution_count": 47
        }
      ]
    },
    {
      "cell_type": "code",
      "source": [
        "# Grabbing the right hand column as a (3,1) slice\n",
        "x[:,1:]"
      ],
      "metadata": {
        "colab": {
          "base_uri": "https://localhost:8080/"
        },
        "id": "P8dR99hLcrSj",
        "outputId": "494562bf-3fb1-4834-cea0-b99959cfdc50"
      },
      "execution_count": 48,
      "outputs": [
        {
          "output_type": "execute_result",
          "data": {
            "text/plain": [
              "tensor([[1],\n",
              "        [3],\n",
              "        [5]])"
            ]
          },
          "metadata": {},
          "execution_count": 48
        }
      ]
    },
    {
      "cell_type": "markdown",
      "source": [
        "## Reshape tensors with .view()\n",
        "\n",
        "view() and reshape() do essentially the same thing by returning a reshaped tensor without changing the original tensor in place.\n"
      ],
      "metadata": {
        "id": "cdp3bovZcu5z"
      }
    },
    {
      "cell_type": "code",
      "source": [
        "x = torch.arange(10)\n",
        "print(x)"
      ],
      "metadata": {
        "colab": {
          "base_uri": "https://localhost:8080/"
        },
        "id": "FzucM23ncyCQ",
        "outputId": "43d753a6-8e9b-4085-fea3-bdbe195ef921"
      },
      "execution_count": 49,
      "outputs": [
        {
          "output_type": "stream",
          "name": "stdout",
          "text": [
            "tensor([0, 1, 2, 3, 4, 5, 6, 7, 8, 9])\n"
          ]
        }
      ]
    },
    {
      "cell_type": "code",
      "source": [
        "x.view(2,5)"
      ],
      "metadata": {
        "colab": {
          "base_uri": "https://localhost:8080/"
        },
        "id": "l2LGxqi2czMR",
        "outputId": "d089f77d-5e6c-49ad-8f74-9e5ef1c5a36b"
      },
      "execution_count": 50,
      "outputs": [
        {
          "output_type": "execute_result",
          "data": {
            "text/plain": [
              "tensor([[0, 1, 2, 3, 4],\n",
              "        [5, 6, 7, 8, 9]])"
            ]
          },
          "metadata": {},
          "execution_count": 50
        }
      ]
    },
    {
      "cell_type": "code",
      "source": [
        "x.view(5,2)"
      ],
      "metadata": {
        "colab": {
          "base_uri": "https://localhost:8080/"
        },
        "id": "h2EJ-xadc08F",
        "outputId": "d596bdcd-02eb-4267-8870-8619e9c2f076"
      },
      "execution_count": 51,
      "outputs": [
        {
          "output_type": "execute_result",
          "data": {
            "text/plain": [
              "tensor([[0, 1],\n",
              "        [2, 3],\n",
              "        [4, 5],\n",
              "        [6, 7],\n",
              "        [8, 9]])"
            ]
          },
          "metadata": {},
          "execution_count": 51
        }
      ]
    },
    {
      "cell_type": "code",
      "source": [
        "# x is unchanged\n",
        "x"
      ],
      "metadata": {
        "colab": {
          "base_uri": "https://localhost:8080/"
        },
        "id": "O9P8PPEQc1-K",
        "outputId": "5df5acaa-a3d4-4604-c6be-2ac549e591c8"
      },
      "execution_count": 54,
      "outputs": [
        {
          "output_type": "execute_result",
          "data": {
            "text/plain": [
              "tensor([234,   1,   2,   3,   4,   5,   6,   7,   8,   9])"
            ]
          },
          "metadata": {},
          "execution_count": 54
        }
      ]
    },
    {
      "cell_type": "markdown",
      "source": [
        "### Views reflect the most current data\n"
      ],
      "metadata": {
        "id": "UrapnEoQc3WX"
      }
    },
    {
      "cell_type": "code",
      "source": [
        "z = x.view(2,5)\n",
        "x[0]=234\n",
        "print(z)"
      ],
      "metadata": {
        "colab": {
          "base_uri": "https://localhost:8080/"
        },
        "id": "h3V8ypbcc4la",
        "outputId": "4a4be32c-5a70-4b90-9a7c-36b30cb04988"
      },
      "execution_count": 53,
      "outputs": [
        {
          "output_type": "stream",
          "name": "stdout",
          "text": [
            "tensor([[234,   1,   2,   3,   4],\n",
            "        [  5,   6,   7,   8,   9]])\n"
          ]
        }
      ]
    },
    {
      "cell_type": "markdown",
      "source": [
        "### Views can infer the correct size\n",
        "\n",
        "By passing in -1 PyTorch will infer the correct value from the given tensor"
      ],
      "metadata": {
        "id": "tfx0nM_Kc6es"
      }
    },
    {
      "cell_type": "code",
      "source": [
        "x.view(2,-1)"
      ],
      "metadata": {
        "colab": {
          "base_uri": "https://localhost:8080/"
        },
        "id": "FUSUOyb6c7Fv",
        "outputId": "a555e855-2c4c-4bde-b365-9b1249943a54"
      },
      "execution_count": 55,
      "outputs": [
        {
          "output_type": "execute_result",
          "data": {
            "text/plain": [
              "tensor([[234,   1,   2,   3,   4],\n",
              "        [  5,   6,   7,   8,   9]])"
            ]
          },
          "metadata": {},
          "execution_count": 55
        }
      ]
    },
    {
      "cell_type": "code",
      "source": [
        "x.view(-1,5)"
      ],
      "metadata": {
        "colab": {
          "base_uri": "https://localhost:8080/"
        },
        "id": "mqF7SOf2dFHX",
        "outputId": "9adb6b3c-6551-4fe4-a292-6a05586b2864"
      },
      "execution_count": 56,
      "outputs": [
        {
          "output_type": "execute_result",
          "data": {
            "text/plain": [
              "tensor([[234,   1,   2,   3,   4],\n",
              "        [  5,   6,   7,   8,   9]])"
            ]
          },
          "metadata": {},
          "execution_count": 56
        }
      ]
    },
    {
      "cell_type": "markdown",
      "source": [
        "### Adopt another tensor's shape with .view_as()\n",
        "\n",
        "view_as(input) only works with tensors that have the same number of elements.\n"
      ],
      "metadata": {
        "id": "29ZnX-JQdIvZ"
      }
    },
    {
      "cell_type": "code",
      "source": [
        "x.view_as(z)"
      ],
      "metadata": {
        "colab": {
          "base_uri": "https://localhost:8080/"
        },
        "id": "U8__3MztdKxt",
        "outputId": "cce68e1f-7e10-40d8-d16f-41641569a491"
      },
      "execution_count": 57,
      "outputs": [
        {
          "output_type": "execute_result",
          "data": {
            "text/plain": [
              "tensor([[234,   1,   2,   3,   4],\n",
              "        [  5,   6,   7,   8,   9]])"
            ]
          },
          "metadata": {},
          "execution_count": 57
        }
      ]
    },
    {
      "cell_type": "markdown",
      "source": [
        "## Tensor Arithmetic\n",
        "\n",
        "Adding tensors can be performed a few different ways depending on the desired result.\n",
        "\n",
        "As a simple expression:"
      ],
      "metadata": {
        "id": "d6D1drgsdemN"
      }
    },
    {
      "cell_type": "code",
      "source": [
        "a = torch.tensor([1,2,3], dtype=torch.float)\n",
        "b = torch.tensor([4,5,6], dtype=torch.float)\n",
        "print(a + b)"
      ],
      "metadata": {
        "colab": {
          "base_uri": "https://localhost:8080/"
        },
        "id": "CjWMiPx4dg7K",
        "outputId": "246ae0ab-8b4f-4a19-b1bd-ad0fc6b2de5e"
      },
      "execution_count": 58,
      "outputs": [
        {
          "output_type": "stream",
          "name": "stdout",
          "text": [
            "tensor([5., 7., 9.])\n"
          ]
        }
      ]
    },
    {
      "cell_type": "markdown",
      "source": [
        "As arguments passed into a torch operation:\n"
      ],
      "metadata": {
        "id": "w6SR-mbwdi2M"
      }
    },
    {
      "cell_type": "code",
      "source": [
        "print(torch.add(a, b))"
      ],
      "metadata": {
        "colab": {
          "base_uri": "https://localhost:8080/"
        },
        "id": "TI1rST3JdjxF",
        "outputId": "d1ecb376-6ec6-4f5a-9882-eb3c9a61493a"
      },
      "execution_count": 59,
      "outputs": [
        {
          "output_type": "stream",
          "name": "stdout",
          "text": [
            "tensor([5., 7., 9.])\n"
          ]
        }
      ]
    },
    {
      "cell_type": "markdown",
      "source": [
        "With an output tensor passed in as an argument:\n"
      ],
      "metadata": {
        "id": "efSvmWvWdlMF"
      }
    },
    {
      "cell_type": "code",
      "source": [
        "result = torch.empty(3)\n",
        "torch.add(a, b, out=result)  # equivalent to result=torch.add(a,b)\n",
        "print(result)"
      ],
      "metadata": {
        "colab": {
          "base_uri": "https://localhost:8080/"
        },
        "id": "pErJyx9-dmWZ",
        "outputId": "69721262-1d62-45e9-e091-081fad00d1a8"
      },
      "execution_count": 60,
      "outputs": [
        {
          "output_type": "stream",
          "name": "stdout",
          "text": [
            "tensor([5., 7., 9.])\n"
          ]
        }
      ]
    },
    {
      "cell_type": "markdown",
      "source": [
        "Changing a tensor in-place"
      ],
      "metadata": {
        "id": "N9R8y0P5drxm"
      }
    },
    {
      "cell_type": "code",
      "source": [
        "a.add_(b)  # equivalent to a=torch.add(a,b)\n",
        "print(a)"
      ],
      "metadata": {
        "colab": {
          "base_uri": "https://localhost:8080/"
        },
        "id": "4e4wUVXYdsti",
        "outputId": "23b4b90c-759f-4714-c137-d6ccb064bd3d"
      },
      "execution_count": 61,
      "outputs": [
        {
          "output_type": "stream",
          "name": "stdout",
          "text": [
            "tensor([5., 7., 9.])\n"
          ]
        }
      ]
    },
    {
      "cell_type": "markdown",
      "source": [
        "# Basic Tensor Operations in PyTorch\n",
        "\n",
        "## Arithmetic Operations\n",
        "\n",
        "| OPERATION | FUNCTION   | DESCRIPTION               |\n",
        "|-----------|------------|---------------------------|\n",
        "| `a + b`   | `a.add(b)` | Element-wise addition      |\n",
        "| `a - b`   | `a.sub(b)` | Subtraction                |\n",
        "| `a * b`   | `a.mul(b)` | Multiplication             |\n",
        "| `a / b`   | `a.div(b)` | Division                   |\n",
        "| `a % b`   | `a.fmod(b)`| Modulo (remainder)         |\n",
        "| `a^b`     | `a.pow(b)` | Power                      |\n",
        "\n",
        "## Monomial Operations\n",
        "\n",
        "| OPERATION       | FUNCTION            | DESCRIPTION                        |\n",
        "|-----------------|---------------------|------------------------------------|\n",
        "| `|a|`           | `torch.abs(a)`       | Absolute value                     |\n",
        "| `1/a`           | `torch.reciprocal(a)`| Reciprocal                         |\n",
        "| `√a`            | `torch.sqrt(a)`      | Square root                        |\n",
        "| `log(a)`        | `torch.log(a)`       | Natural logarithm                  |\n",
        "| `e^a`           | `torch.exp(a)`       | Exponential                        |\n",
        "| `12.34 ==> 12.` | `torch.trunc(a)`     | Truncated integer                  |\n",
        "| `12.34 ==> 0.34`| `torch.frac(a)`      | Fractional component               |\n",
        "\n",
        "## Trigonometry\n",
        "\n",
        "| OPERATION    | FUNCTION       | DESCRIPTION          |\n",
        "|--------------|----------------|----------------------|\n",
        "| `sin(a)`     | `torch.sin(a)` | Sine                 |\n",
        "| `cos(a)`     | `torch.cos(a)` | Cosine               |\n",
        "| `tan(a)`     | `torch.tan(a)` | Tangent              |\n",
        "| `arcsin(a)`  | `torch.asin(a)`| Arc sine             |\n",
        "| `arccos(a)`  | `torch.acos(a)`| Arc cosine           |\n",
        "| `arctan(a)`  | `torch.atan(a)`| Arc tangent          |\n",
        "| `sinh(a)`    | `torch.sinh(a)`| Hyperbolic sine      |\n",
        "| `cosh(a)`    | `torch.cosh(a)`| Hyperbolic cosine    |\n",
        "| `tanh(a)`    | `torch.tanh(a)`| Hyperbolic tangent   |\n",
        "\n",
        "## Summary Statistics\n",
        "\n",
        "| OPERATION      | FUNCTION        | DESCRIPTION                           |\n",
        "|----------------|-----------------|---------------------------------------|\n",
        "| `sum(a)`       | `torch.sum(a)`  | Sum                                   |\n",
        "| `mean(a)`      | `torch.mean(a)` | Mean                                  |\n",
        "| `amax(a)`      | `torch.max(a)`  | Maximum                               |\n",
        "| `amin(a)`      | `torch.min(a)`  | Minimum                               |\n",
        "| `torch.max(a, b)` | Returns a tensor of size `a` containing the element-wise max between `a` and `b`. |\n",
        "\n",
        "> NOTE: Most arithmetic operations require float values. Those that do work with integers return integer tensors.\n",
        "For example, torch.div(a,b) performs floor division (truncates the decimal) for integer types, and classic division for floats."
      ],
      "metadata": {
        "id": "ZgdKiESLeVrr"
      }
    },
    {
      "cell_type": "markdown",
      "source": [
        "## Dot products\n",
        "\n",
        "A dot product is the sum of the products of the corresponding entries of two 1D tensors. If the tensors are both vectors, the dot product is given as:\n",
        "\n",
        "Dot products can be expressed as torch.dot(a,b) or a.dot(b) or b.dot(a)\n"
      ],
      "metadata": {
        "id": "_DdOB4r3ev1q"
      }
    },
    {
      "cell_type": "code",
      "source": [
        "a = torch.tensor([1,2,3], dtype=torch.float)\n",
        "b = torch.tensor([4,5,6], dtype=torch.float)\n",
        "print(a.mul(b)) # for reference\n",
        "print()\n",
        "print(a.dot(b))"
      ],
      "metadata": {
        "colab": {
          "base_uri": "https://localhost:8080/"
        },
        "id": "D-jaLpccfKVl",
        "outputId": "fb3b6d6a-986e-4914-ad36-ef5eb53caa23"
      },
      "execution_count": 62,
      "outputs": [
        {
          "output_type": "stream",
          "name": "stdout",
          "text": [
            "tensor([ 4., 10., 18.])\n",
            "\n",
            "tensor(32.)\n"
          ]
        }
      ]
    },
    {
      "cell_type": "markdown",
      "source": [
        "> NOTE: There's a slight difference between torch.dot() and numpy.dot(). While torch.dot() only accepts 1D arguments and returns a dot product, numpy.dot() also accepts 2D arguments and performs matrix multiplication. We show matrix multiplication below.\n",
        "\n",
        "## Matrix multiplication\n",
        "\n",
        "2D Matrix multiplication is possible when the number of columns in tensor A matches the number of rows in tensor B. In this case, the product of tensor A with size (x,y) and tensor B with size (y,z) results in a tensor of size (x,z).\n",
        "\n",
        "Matrix multiplication can be computed using torch.mm(a,b) or a.mm(b) or a @ b.\n"
      ],
      "metadata": {
        "id": "-WVydVYpfN8U"
      }
    },
    {
      "cell_type": "code",
      "source": [
        "a = torch.tensor([[0,2,4],[1,3,5]], dtype=torch.float)\n",
        "b = torch.tensor([[6,7],[8,9],[10,11]], dtype=torch.float)\n",
        "\n",
        "print('a: ',a.size())\n",
        "print('b: ',b.size())\n",
        "print('a x b: ',torch.mm(a,b).size())\n"
      ],
      "metadata": {
        "colab": {
          "base_uri": "https://localhost:8080/"
        },
        "id": "j5JFstzFfaZs",
        "outputId": "0c23efbb-4923-492b-f243-dc29c0e3d018"
      },
      "execution_count": 63,
      "outputs": [
        {
          "output_type": "stream",
          "name": "stdout",
          "text": [
            "a:  torch.Size([2, 3])\n",
            "b:  torch.Size([3, 2])\n",
            "a x b:  torch.Size([2, 2])\n"
          ]
        }
      ]
    },
    {
      "cell_type": "code",
      "source": [
        "print(torch.mm(a,b))\n"
      ],
      "metadata": {
        "colab": {
          "base_uri": "https://localhost:8080/"
        },
        "id": "-3Zq5e-3fcSz",
        "outputId": "55dd5561-02fc-401e-94d9-2de23cd793c3"
      },
      "execution_count": 64,
      "outputs": [
        {
          "output_type": "stream",
          "name": "stdout",
          "text": [
            "tensor([[56., 62.],\n",
            "        [80., 89.]])\n"
          ]
        }
      ]
    },
    {
      "cell_type": "code",
      "source": [
        "print(a.mm(b))\n"
      ],
      "metadata": {
        "colab": {
          "base_uri": "https://localhost:8080/"
        },
        "id": "Yq60jINhffSi",
        "outputId": "6799d656-453a-4ceb-8b42-c7d7c84ac97f"
      },
      "execution_count": 65,
      "outputs": [
        {
          "output_type": "stream",
          "name": "stdout",
          "text": [
            "tensor([[56., 62.],\n",
            "        [80., 89.]])\n"
          ]
        }
      ]
    },
    {
      "cell_type": "code",
      "source": [
        "print(a @ b)\n"
      ],
      "metadata": {
        "colab": {
          "base_uri": "https://localhost:8080/"
        },
        "id": "pZTQMxHxfgs4",
        "outputId": "3233714c-e004-4bfd-b852-a3c1a3dfc07a"
      },
      "execution_count": 66,
      "outputs": [
        {
          "output_type": "stream",
          "name": "stdout",
          "text": [
            "tensor([[56., 62.],\n",
            "        [80., 89.]])\n"
          ]
        }
      ]
    },
    {
      "cell_type": "markdown",
      "source": [
        "## Matrix multiplication with broadcasting\n",
        "\n",
        "Matrix multiplication that involves broadcasting can be computed using torch.matmul(a,b) or a.matmul(b) or a @ b"
      ],
      "metadata": {
        "id": "fh0DxoEyfh_p"
      }
    },
    {
      "cell_type": "code",
      "source": [
        "t1 = torch.randn(2, 3, 4)\n",
        "t2 = torch.randn(4, 5)\n",
        "\n",
        "print(torch.matmul(t1, t2).size())"
      ],
      "metadata": {
        "colab": {
          "base_uri": "https://localhost:8080/"
        },
        "id": "0AXNlJF5fnpo",
        "outputId": "686c789b-694b-423b-e398-bff464938afc"
      },
      "execution_count": 67,
      "outputs": [
        {
          "output_type": "stream",
          "name": "stdout",
          "text": [
            "torch.Size([2, 3, 5])\n"
          ]
        }
      ]
    },
    {
      "cell_type": "markdown",
      "source": [
        "However, the same operation raises a RuntimeError with torch.mm():"
      ],
      "metadata": {
        "id": "z7ebzCO7fo3W"
      }
    },
    {
      "cell_type": "code",
      "source": [
        "print(torch.mm(t1, t2).size())\n"
      ],
      "metadata": {
        "colab": {
          "base_uri": "https://localhost:8080/",
          "height": 135
        },
        "id": "wDs31eX0fqDS",
        "outputId": "e6847d20-a210-4c16-981e-6919e7dc18b2"
      },
      "execution_count": 68,
      "outputs": [
        {
          "output_type": "error",
          "ename": "RuntimeError",
          "evalue": "self must be a matrix",
          "traceback": [
            "\u001b[0;31m---------------------------------------------------------------------------\u001b[0m",
            "\u001b[0;31mRuntimeError\u001b[0m                              Traceback (most recent call last)",
            "\u001b[0;32m<ipython-input-68-edaac219da2b>\u001b[0m in \u001b[0;36m<cell line: 1>\u001b[0;34m()\u001b[0m\n\u001b[0;32m----> 1\u001b[0;31m \u001b[0mprint\u001b[0m\u001b[0;34m(\u001b[0m\u001b[0mtorch\u001b[0m\u001b[0;34m.\u001b[0m\u001b[0mmm\u001b[0m\u001b[0;34m(\u001b[0m\u001b[0mt1\u001b[0m\u001b[0;34m,\u001b[0m \u001b[0mt2\u001b[0m\u001b[0;34m)\u001b[0m\u001b[0;34m.\u001b[0m\u001b[0msize\u001b[0m\u001b[0;34m(\u001b[0m\u001b[0;34m)\u001b[0m\u001b[0;34m)\u001b[0m\u001b[0;34m\u001b[0m\u001b[0;34m\u001b[0m\u001b[0m\n\u001b[0m",
            "\u001b[0;31mRuntimeError\u001b[0m: self must be a matrix"
          ]
        }
      ]
    },
    {
      "cell_type": "markdown",
      "source": [
        "\n",
        "## Advanced operations\n",
        "\n",
        "### L2 or Euclidian Norm\n",
        "\n",
        "When applied to a matrix, torch.norm() returns the Frobenius norm by default.\n"
      ],
      "metadata": {
        "id": "8Pk4cKKBfs1y"
      }
    },
    {
      "cell_type": "code",
      "source": [
        "x = torch.tensor([2.,5.,8.,14.])\n",
        "x.norm()\n"
      ],
      "metadata": {
        "colab": {
          "base_uri": "https://localhost:8080/"
        },
        "id": "oLGszTRrfx5W",
        "outputId": "e051fdad-c357-408a-c0c4-8a1bc19de3b5"
      },
      "execution_count": 69,
      "outputs": [
        {
          "output_type": "execute_result",
          "data": {
            "text/plain": [
              "tensor(17.)"
            ]
          },
          "metadata": {},
          "execution_count": 69
        }
      ]
    },
    {
      "cell_type": "markdown",
      "source": [
        "### Number of elements\n",
        "\n",
        "Returns the number of elements in a tensor."
      ],
      "metadata": {
        "id": "YkDKjzggfzwM"
      }
    },
    {
      "cell_type": "code",
      "source": [
        "x = torch.ones(3,7)\n",
        "x.numel()"
      ],
      "metadata": {
        "colab": {
          "base_uri": "https://localhost:8080/"
        },
        "id": "0RlUeidGfzSi",
        "outputId": "525aa5d7-68a4-4e83-98ac-251a458c36c5"
      },
      "execution_count": 70,
      "outputs": [
        {
          "output_type": "execute_result",
          "data": {
            "text/plain": [
              "21"
            ]
          },
          "metadata": {},
          "execution_count": 70
        }
      ]
    }
  ]
}